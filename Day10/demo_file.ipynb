{
 "cells": [
  {
   "cell_type": "code",
   "execution_count": null,
   "metadata": {},
   "outputs": [],
   "source": [
    "f = open('../Dataset/agencies.txt', 'r')\n",
    "contents = f.read() # read the entire file into a string\n",
    "print(contents)"
   ]
  },
  {
   "cell_type": "code",
   "execution_count": null,
   "metadata": {},
   "outputs": [],
   "source": [
    "f = open('../Dataset/agencies.txt', 'r')\n",
    "lines = f.readlines() # read the entire file into a list of strings\n",
    "for li in lines:\n",
    "    print(li[:-1]) # remove the newline character"
   ]
  },
  {
   "cell_type": "code",
   "execution_count": 7,
   "metadata": {},
   "outputs": [
    {
     "name": "stdout",
     "output_type": "stream",
     "text": [
      "The Triboro Bridge and Tunnel Authority\n",
      "The Metropolitan Transit Authority\n",
      "The Port Authority of New York and New Jersey\n"
     ]
    }
   ],
   "source": [
    "f = open('../Dataset/agencies.txt', 'r')\n",
    "line = f.readline() # read one line at a time\n",
    "while line:\n",
    "    if 'authority' in line.lower():\n",
    "        print(line[:-1])\n",
    "    line = f.readline()"
   ]
  },
  {
   "cell_type": "code",
   "execution_count": null,
   "metadata": {},
   "outputs": [],
   "source": [
    "# Read authors.txt, print authors that uses gmail\n",
    "# Output example:\n",
    "# Name                  Email\n",
    "# Paul Bakaus           paul.bakaus@gmail.com\n",
    "# Richard Worth         rdworth@gmail.com\n",
    "f = open('../Dataset/authors.txt', 'r')\n",
    "lines = f.readlines()\n",
    "print(f'{\"Name\":20}{\"Email\":20}')\n",
    "for li in lines:\n",
    "    if 'gmail' in li.lower():\n",
    "        name = li.split('<')[0][:-1]\n",
    "        email = li.split('<')[1][:-2]\n",
    "        print(f'{name:20}{email:20}')"
   ]
  },
  {
   "cell_type": "code",
   "execution_count": 12,
   "metadata": {},
   "outputs": [
    {
     "name": "stdout",
     "output_type": "stream",
     "text": [
      "[0.0, 0.0, 180.0, 3.5]\n",
      "[1.0, 0.5, 185.0, 4.5]\n",
      "[2.0, 0.7, 192.0, 5.0]\n"
     ]
    }
   ],
   "source": [
    "f = open('../Dataset/falling.txt', 'r')\n",
    "lines = f.readlines()[5:]   # read all lines & skip the first 5 lines\n",
    "\n",
    "falling_data = []\n",
    "\n",
    "for li in lines:\n",
    "    numbers = li[:-1].split()\n",
    "    falling_data.append(list(map(lambda x: float(x), numbers)))\n",
    "\n",
    "for row in falling_data:\n",
    "    print(row)"
   ]
  },
  {
   "cell_type": "code",
   "execution_count": 2,
   "metadata": {},
   "outputs": [
    {
     "name": "stdout",
     "output_type": "stream",
     "text": [
      "[[  0.    0.  180.    3.5]\n",
      " [  1.    0.5 185.    4.5]\n",
      " [  2.    0.7 192.    5.2]]\n"
     ]
    }
   ],
   "source": [
    "import numpy as np\n",
    "falling_data = np.loadtxt('../Dataset/falling.txt', skiprows=5)\n",
    "print(falling_data)"
   ]
  },
  {
   "cell_type": "code",
   "execution_count": 16,
   "metadata": {},
   "outputs": [
    {
     "name": "stdout",
     "output_type": "stream",
     "text": [
      "[180. 185. 192.] [3.5 4.5 5.2]\n"
     ]
    }
   ],
   "source": [
    "data_points, times, heights, uncertainties = np.loadtxt('../Dataset/falling.txt', skiprows=5,       \n",
    "                                                        unpack=True)\n",
    "print(heights, uncertainties)"
   ]
  },
  {
   "cell_type": "code",
   "execution_count": 17,
   "metadata": {},
   "outputs": [
    {
     "name": "stdout",
     "output_type": "stream",
     "text": [
      "[180. 185. 192.] [3.5 4.5 5.2]\n"
     ]
    }
   ],
   "source": [
    "heights, uncertainties = np.loadtxt('../Dataset/falling.txt', skiprows=5, usecols=(2, 3), unpack=True)\n",
    "print(heights, uncertainties)"
   ]
  },
  {
   "cell_type": "code",
   "execution_count": null,
   "metadata": {},
   "outputs": [],
   "source": [
    "students_data = np.loadtxt('../Dataset/gradebook.csv', skiprows=1, delimiter=',', dtype=str)\n",
    "for student in students_data:\n",
    "    print(student)"
   ]
  },
  {
   "cell_type": "code",
   "execution_count": null,
   "metadata": {},
   "outputs": [],
   "source": [
    "codes, names, grades = np.loadtxt('../Dataset/gradebook.csv', skiprows=1, delimiter=',', \n",
    "                                  usecols=(2, 3, 4), unpack=True, dtype=str)\n",
    "# Fix empty grade => 0.0\n",
    "grades[grades == ''] = '0.0'    # boolean indexing\n",
    "# Fix empty code => GCHXXXXX\n",
    "codes[codes == ''] = 'GCHXXXXX'\n",
    "print(grades, codes, sep='\\n')\n",
    "# Fix invalid grade (>10) => 10.0\n",
    "grades = np.array(list(map(lambda x: float(x) if float(x) <= 10 else 10.0, grades)))\n",
    "print(grades)"
   ]
  },
  {
   "cell_type": "code",
   "execution_count": null,
   "metadata": {},
   "outputs": [],
   "source": [
    "import csv\n",
    "\n",
    "f = open('../Dataset/gradebook.csv', 'r')\n",
    "reader = csv.reader(f)\n",
    "next(reader)        # skip the header\n",
    "\n",
    "students_data = []\n",
    "for row in reader:\n",
    "    students_data.append(row)\n",
    "\n",
    "for student in students_data:\n",
    "    print(student)"
   ]
  }
 ],
 "metadata": {
  "kernelspec": {
   "display_name": "Python 3",
   "language": "python",
   "name": "python3"
  },
  "language_info": {
   "codemirror_mode": {
    "name": "ipython",
    "version": 3
   },
   "file_extension": ".py",
   "mimetype": "text/x-python",
   "name": "python",
   "nbconvert_exporter": "python",
   "pygments_lexer": "ipython3",
   "version": "3.9.12"
  },
  "orig_nbformat": 4
 },
 "nbformat": 4,
 "nbformat_minor": 2
}
